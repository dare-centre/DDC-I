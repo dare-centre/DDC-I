{
 "cells": [
  {
   "attachments": {},
   "cell_type": "markdown",
   "metadata": {},
   "source": [
    "# DARE Deluxe Data Challenge\n",
    "DARE 2023\n",
    "\n",
    "In this notebook, we will provide a template for the DARE Deluxe Data Challenge. The main steps covered here will be:\n",
    "\n",
    "- Load the data\n",
    "- Provide an overview of what is in the data\n",
    "- Provide an example of a terribly performing baseline model\n",
    "- Provide functions to quantify model predictive performance"
   ]
  },
  {
   "cell_type": "code",
   "execution_count": null,
   "metadata": {},
   "outputs": [],
   "source": [
    "# magic\n",
    "%load_ext autoreload\n",
    "%autoreload 2\n",
    "%pdb 1\n",
    "%matplotlib inline"
   ]
  },
  {
   "cell_type": "markdown",
   "metadata": {},
   "source": [
    "## Imports and settings\n",
    "Everything we need to get started."
   ]
  },
  {
   "cell_type": "code",
   "execution_count": null,
   "metadata": {},
   "outputs": [],
   "source": [
    "import os, sys\n",
    "import pandas as pd\n",
    "import matplotlib.pyplot as plt\n",
    "\n",
    "# data\n",
    "from functions.data_functions import(load_raw_data) "
   ]
  },
  {
   "cell_type": "markdown",
   "metadata": {},
   "source": [
    "## Load the data\n",
    "Briefly look at the contents and structure of the data."
   ]
  },
  {
   "cell_type": "code",
   "execution_count": null,
   "metadata": {},
   "outputs": [],
   "source": [
    "process_data = load_raw_data()\n",
    "process_data.head()"
   ]
  },
  {
   "cell_type": "code",
   "execution_count": null,
   "metadata": {},
   "outputs": [],
   "source": [
    "# lets look at some properties of the data \n",
    "print('Number of features: {}'.format(process_data.shape[1]))\n",
    "print('Number of observations: {}'.format(process_data.shape[0]))\n",
    "\n",
    "print('Variable names: {}'.format(process_data.columns.tolist()))\n",
    "\n",
    "process_data.describe()"
   ]
  },
  {
   "attachments": {},
   "cell_type": "markdown",
   "metadata": {},
   "source": [
    "## Dataset description\n"
   ]
  },
  {
   "cell_type": "code",
   "execution_count": null,
   "metadata": {},
   "outputs": [],
   "source": [
    "# First of all lets resample hourly taking the mean of each of the process variables\n",
    "hourly_data = process_data.resample('H').mean()\n",
    "print('Number of hourly observations: {} of {}'.format(hourly_data.dropna().shape[0],hourly_data.shape[0]))"
   ]
  },
  {
   "cell_type": "markdown",
   "metadata": {},
   "source": [
    "Training data"
   ]
  },
  {
   "cell_type": "code",
   "execution_count": null,
   "metadata": {},
   "outputs": [],
   "source": [
    "print('Training data is around {:.2f}% of the total data'.format(train_data.shape[0]/hourly_data.shape[0]*100))\n",
    "print('Training - number of hourly observations: {} of {}'.format(train_data.dropna().shape[0],train_data.shape[0]))"
   ]
  },
  {
   "cell_type": "markdown",
   "metadata": {},
   "source": [
    "Test data"
   ]
  },
  {
   "cell_type": "code",
   "execution_count": null,
   "metadata": {},
   "outputs": [],
   "source": [
    "# now split the test data - conveniently about 20%\n",
    "test_data = hourly_data.loc['2017-08-03 21:00':,:]\n",
    "print('Test data is around {:.2f}% of the total data'.format(test_data.shape[0]/hourly_data.shape[0]*100))\n",
    "print('Test - number of hourly observations: {} of {}'.format(test_data.dropna().shape[0],test_data.shape[0]))"
   ]
  },
  {
   "cell_type": "code",
   "execution_count": null,
   "metadata": {},
   "outputs": [],
   "source": [
    "# Lets now save the training and test data as hourly mean\n",
    "train_data.to_csv('data/hourly_train_data.csv')\n",
    "test_data.to_csv('data/hourly_test_data.csv')"
   ]
  },
  {
   "cell_type": "code",
   "execution_count": null,
   "metadata": {},
   "outputs": [],
   "source": []
  }
 ],
 "metadata": {
  "kernelspec": {
   "display_name": "Python 3 (ipykernel)",
   "language": "python",
   "name": "python3"
  },
  "language_info": {
   "codemirror_mode": {
    "name": "ipython",
    "version": 3
   },
   "file_extension": ".py",
   "mimetype": "text/x-python",
   "name": "python",
   "nbconvert_exporter": "python",
   "pygments_lexer": "ipython3",
   "version": "3.9.13"
  },
  "vscode": {
   "interpreter": {
    "hash": "f532f3807191c22baaed3ff97e55a43c45b25332d3cba4cee14c260dd9338ea7"
   }
  }
 },
 "nbformat": 4,
 "nbformat_minor": 2
}
